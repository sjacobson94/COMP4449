{
 "cells": [
  {
   "cell_type": "markdown",
   "metadata": {},
   "source": [
    "Need to get the player data first, since that will be the focus of the first half, but then also will need to get the team/game data for later. The player data will feed into the feature engineering aspect of the final portion.\n",
    "\n",
    "# Getting the player data and exploring\n",
    "\n",
    "There are a few different APIs I'm going to try first before I resort to creating my own scraping functions. I was to pull data for all the players that I can. I anticipate only being able to get accurate data going back maybe as far as the mid 2007s. Player data might be easier. I know game data will not be as readily available going back more than a few years. NHL data has become more popular in recent years."
   ]
  },
  {
   "cell_type": "code",
   "execution_count": 2,
   "metadata": {},
   "outputs": [],
   "source": [
    "import pandas as pd\n",
    "import functools\n",
    "# doing it the old fashion way\n",
    "\n",
    "def player_data(year):\n",
    "    # create the link based on year\n",
    "    link = f\"https://www.hockey-reference.com/leagues/NHL_%s_skaters.html#stats\" % year\n",
    "    # use pandas to read in the table\n",
    "    data = pd.read_html(link)[0]\n",
    "    # rename the columns to be more usable/readable\n",
    "    data.columns = [\n",
    "        \"rank\", \"player\", \"age\", \"team\", \"position\", \"games_played\", \"goals\",\n",
    "        \"assists\", \"points\", \"plus_minus\", \"penalties_in_minutes\", \"point_shares\",\n",
    "        \"even_strength_goals\", \"powerplay_goals\", \"shorthanded_goals\", \"game_winning_goals\",\n",
    "        \"even_strength_assists\", \"powerplay_assists\", \"shorthanded_assists\", \"shots\",\n",
    "        \"shooting_pct\", \"time_on_ice_min\", \"average_time_on_ice\", \"blocks\", \n",
    "        \"hits\", \"faceoff_wins\", \"faceoff_losses\", \"faceoff_win_pct\"\n",
    "    ]\n",
    "    # adding a column indicating the season\n",
    "    last_year = year-1\n",
    "    data[\"season\"] = f'%s/%s' % (last_year, year)\n",
    "    return(data)\n",
    "\n",
    "def salary_data(year):\n",
    "    # create the link\n",
    "    link = \"https://www.hockey-reference.com/friv/current_nhl_salaries.cgi\"\n",
    "    data = pd.read_html(link)[0]\n",
    "    return(data)\n",
    "\n"
   ]
  },
  {
   "cell_type": "code",
   "execution_count": 61,
   "metadata": {},
   "outputs": [],
   "source": [
    "# this is how I'm going to get the game data. Good ole json scraping, but can at least load it in using pandas to maybe make it a little faster than using requests.get\n",
    "# jk, requests.get is significantly faster\n",
    "teams = pd.read_json(\"https://statsapi.web.nhl.com/api/v1/teams?expand=team.roster&season=20142015\")"
   ]
  },
  {
   "cell_type": "code",
   "execution_count": 62,
   "metadata": {},
   "outputs": [],
   "source": [
    "# this is how I'm going to get the game data. Good ole json scraping...\n",
    "import requests\n",
    "\n",
    "team_data = requests.get(\"https://statsapi.web.nhl.com/api/v1/teams?expand=team.roster&season=20142015\").json()\n",
    "\n",
    "# team_data\n"
   ]
  },
  {
   "cell_type": "code",
   "execution_count": 17,
   "metadata": {},
   "outputs": [
    {
     "data": {
      "text/plain": [
       "dict_keys(['copyright', 'teams'])"
      ]
     },
     "execution_count": 17,
     "metadata": {},
     "output_type": "execute_result"
    }
   ],
   "source": [
    "team_data.keys()"
   ]
  },
  {
   "cell_type": "code",
   "execution_count": 32,
   "metadata": {},
   "outputs": [
    {
     "data": {
      "text/plain": [
       "dict_keys(['id', 'name', 'link', 'venue', 'abbreviation', 'teamName', 'locationName', 'firstYearOfPlay', 'division', 'conference', 'franchise', 'roster', 'shortName', 'officialSiteUrl', 'franchiseId', 'active'])"
      ]
     },
     "execution_count": 32,
     "metadata": {},
     "output_type": "execute_result"
    }
   ],
   "source": [
    "team_data['teams'][0].keys()"
   ]
  },
  {
   "cell_type": "code",
   "execution_count": 63,
   "metadata": {},
   "outputs": [],
   "source": [
    "# team_data['teams'][0]['roster']"
   ]
  },
  {
   "cell_type": "code",
   "execution_count": 5,
   "metadata": {},
   "outputs": [],
   "source": [
    "def get_salary(team, year):\n",
    "    link = f\"https://www.spotrac.com/nhl/%s/cap/%s/\" % (team, year)\n",
    "    try: \n",
    "        data = pd.read_html(link)[0]\n",
    "        data['team'] = team\n",
    "        data['season'] = f'%s/%s' % (year, year+1)\n",
    "        data.columns = [\"player\", \"position\", 'age', 'base_salary', \n",
    "                       'signing_bonus', 'perf_bonus', 'total_salary', 'na',\n",
    "                       'total_cap_hit', 'adjusted_cap_hit', 'cap_pct',\n",
    "                       'team', 'season']\n",
    "        data.drop(columns = ['na'], inplace = True)\n",
    "        return(data)\n",
    "    except:\n",
    "        print(f\"Salary data not available for %s for %s/%s season\" % (team, year, year + 1))\n"
   ]
  },
  {
   "cell_type": "code",
   "execution_count": 8,
   "metadata": {},
   "outputs": [],
   "source": [
    "salary_list = [get_salary(team, year) for year in (2018, 2019) for team in current_nhl_teams]\n",
    "salary_df = functools.reduce(lambda left, right: pd.concat([left, right], axis = 0, ignore_index=True),\n",
    "                salary_list)"
   ]
  },
  {
   "cell_type": "code",
   "execution_count": 14,
   "metadata": {},
   "outputs": [],
   "source": [
    "from nhl import *"
   ]
  },
  {
   "cell_type": "code",
   "execution_count": null,
   "metadata": {},
   "outputs": [],
   "source": [
    "# salary_df.to_csv()"
   ]
  }
 ],
 "metadata": {
  "kernelspec": {
   "display_name": "spring_2021",
   "language": "python",
   "name": "spring_2021"
  },
  "language_info": {
   "codemirror_mode": {
    "name": "ipython",
    "version": 3
   },
   "file_extension": ".py",
   "mimetype": "text/x-python",
   "name": "python",
   "nbconvert_exporter": "python",
   "pygments_lexer": "ipython3",
   "version": "3.9.1"
  }
 },
 "nbformat": 4,
 "nbformat_minor": 4
}
