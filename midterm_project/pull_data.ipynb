{
 "cells": [
  {
   "cell_type": "markdown",
   "metadata": {},
   "source": [
    "Need to get the player data first, since that will be the focus of the first half, but then also will need to get the team/game data for later. The player data will feed into the feature engineering aspect of the final portion.\n",
    "\n",
    "# Getting the player data and exploring\n",
    "\n",
    "There are a few different APIs I'm going to try first before I resort to creating my own scraping functions. I was to pull data for all the players that I can. I anticipate only being able to get accurate data going back maybe as far as the mid 2007s. Player data might be easier. I know game data will not be as readily available going back more than a few years. NHL data has become more popular in recent years."
   ]
  },
  {
   "cell_type": "code",
   "execution_count": 1,
   "metadata": {},
   "outputs": [],
   "source": [
    "# using the sportsipy module\n",
    "from sportsipy.nhl.teams import Teams\n"
   ]
  },
  {
   "cell_type": "code",
   "execution_count": null,
   "metadata": {},
   "outputs": [],
   "source": []
  }
 ],
 "metadata": {
  "kernelspec": {
   "display_name": "spring_2021",
   "language": "python",
   "name": "spring_2021"
  },
  "language_info": {
   "codemirror_mode": {
    "name": "ipython",
    "version": 3
   },
   "file_extension": ".py",
   "mimetype": "text/x-python",
   "name": "python",
   "nbconvert_exporter": "python",
   "pygments_lexer": "ipython3",
   "version": "3.9.1"
  }
 },
 "nbformat": 4,
 "nbformat_minor": 4
}
